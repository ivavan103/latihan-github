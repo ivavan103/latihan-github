{
 "cells": [
  {
   "cell_type": "markdown",
   "metadata": {},
   "source": [
    "# Task #1\n",
    "**Given list of customer_id that doing transaction in 1 day:**\n",
    "\n",
    "customer_id = ['B818', 'A461', 'A092', 'A082', 'B341', 'A005', 'A092', 'A461','B219', 'B904', 'A901', 'A083', 'B904', 'A092', 'B341', 'B821','B341', 'B821', 'B904', 'B818', 'A901', 'A083', 'B818', 'A082','B219', 'B219', 'A083', 'A901', 'A082', 'B341', 'B341', 'A083','A082', 'B219', 'B439', 'A461', 'A005', 'A901', 'B341', 'A082','A083', 'A461', 'A083', 'A901', 'A461', 'A083', 'A082', 'A083','B341', 'A901', 'A082', 'A461', 'B219', 'A083', 'B818', 'B821','A092', 'B341', 'A461', 'A092', 'A083', 'B821', 'A092']\n",
    "\n",
    "How many unique customer_id from above list?\n"
   ]
  },
  {
   "cell_type": "code",
   "execution_count": 3,
   "metadata": {},
   "outputs": [
    {
     "data": {
      "text/plain": [
       "12"
      ]
     },
     "execution_count": 3,
     "metadata": {},
     "output_type": "execute_result"
    }
   ],
   "source": [
    "setA = {'B818', 'A461', 'A092', 'A082', 'B341', 'A005', 'A092', 'A461','B219', 'B904', 'A901', 'A083', 'B904',\n",
    " 'A092', 'B341', 'B821','B341', 'B821', 'B904', 'B818', 'A901', 'A083', 'B818', 'A082','B219', 'B219', 'A083', 'A901', \n",
    " 'A082', 'B341', 'B341', 'A083','A082', 'B219', 'B439', 'A461', 'A005', 'A901', 'B341', 'A082','A083', 'A461', 'A083',\n",
    "  'A901', 'A461', 'A083', 'A082', 'A083','B341', 'A901', 'A082', 'A461', 'B219', 'A083', 'B818', 'B821','A092', 'B341',\n",
    "   'A461', 'A092', 'A083', 'B821', 'A092'}\n",
    "\n",
    "len(setA)"
   ]
  },
  {
   "cell_type": "markdown",
   "metadata": {},
   "source": [
    "# Task #2\n",
    "\n",
    "**Given list of:**\n",
    "\n",
    "Data = [1, 4, 9, 16, 25, 36, 49,  64, 81, 100]\n",
    "\n",
    "Use indexing so you can get this output:\n",
    "\n",
    "a.16\n",
    "\n",
    "b.[36, 49, 64, 81]\n",
    "\n",
    "c.[100, 81, 64, 49, 36, 25, 16, 9, 4, 1]\n"
   ]
  },
  {
   "cell_type": "code",
   "execution_count": 24,
   "metadata": {},
   "outputs": [
    {
     "name": "stdout",
     "output_type": "stream",
     "text": [
      "16\n"
     ]
    }
   ],
   "source": [
    "# a. hasil output = 16\n",
    "\n",
    "List = [1, 4, 9, 16, 25, 36, 49,  64, 81, 100]\n",
    "\n",
    "print(List[3])"
   ]
  },
  {
   "cell_type": "code",
   "execution_count": 25,
   "metadata": {},
   "outputs": [
    {
     "name": "stdout",
     "output_type": "stream",
     "text": [
      "[36, 49, 64, 81]\n"
     ]
    }
   ],
   "source": [
    "# b. hasil output = [36, 49, 64, 81]\n",
    "\n",
    "List = [1, 4, 9, 16, 25, 36, 49,  64, 81, 100]\n",
    "\n",
    "print(List[5:9])"
   ]
  },
  {
   "cell_type": "code",
   "execution_count": 23,
   "metadata": {},
   "outputs": [
    {
     "name": "stdout",
     "output_type": "stream",
     "text": [
      "[100, 81, 64, 49, 36, 25, 16, 9, 4, 1]\n"
     ]
    }
   ],
   "source": [
    "# c. hasil output = [100, 81, 64, 49, 36, 25, 16, 9, 4, 1]\n",
    "\n",
    "List = [1, 4, 9, 16, 25, 36, 49,  64, 81, 100]\n",
    "\n",
    "List.sort(reverse = True)\n",
    "print(List)"
   ]
  },
  {
   "cell_type": "markdown",
   "metadata": {},
   "source": [
    "# Task #3\n",
    "\n",
    "**Given a dictionary of:**\n",
    "\n",
    "provinsi = \n",
    "{'Nanggroe Aceh Darussalam': 'Aceh',\n",
    "\n",
    "'Sumatera Selatan': 'Palembang',\n",
    "\n",
    "'Kalimantan Barat': 'Pontianak',\n",
    "\n",
    "'Jawa Timur': 'Madiun',\n",
    "\n",
    "'Sulawesi Selatan': 'Makassar',\n",
    "\n",
    "'Maluku': 'Ambon'}\n",
    "\n",
    "What python command can be use to:\n",
    "\n",
    "a.Get list of keys available in dictionary\n",
    "\n",
    "b.Change 'Jawa Timur' value from 'Madiun'  to 'Surabaya'\n"
   ]
  },
  {
   "cell_type": "code",
   "execution_count": 27,
   "metadata": {},
   "outputs": [
    {
     "name": "stdout",
     "output_type": "stream",
     "text": [
      "dict_keys(['Nanggroe Aceh Darussalam', 'Sumatera Selatan', 'Kalimantan Barat', 'Jawa Timur', 'Sulawesi Selatan', 'Maluku'])\n"
     ]
    }
   ],
   "source": [
    "# a. Get list of keys available in dictionary\n",
    "\n",
    "Dict = {'Nanggroe Aceh Darussalam': 'Aceh',\n",
    "\n",
    "'Sumatera Selatan': 'Palembang',\n",
    "\n",
    "'Kalimantan Barat': 'Pontianak',\n",
    "\n",
    "'Jawa Timur': 'Madiun',\n",
    "\n",
    "'Sulawesi Selatan': 'Makassar',\n",
    "\n",
    "'Maluku': 'Ambon'}\n",
    "\n",
    "x = Dict.keys()\n",
    "print(x)"
   ]
  },
  {
   "cell_type": "code",
   "execution_count": 30,
   "metadata": {},
   "outputs": [
    {
     "name": "stdout",
     "output_type": "stream",
     "text": [
      "['Surabaya']\n"
     ]
    }
   ],
   "source": [
    "# b. Change 'Jawa Timur' value from 'Madiun'  to 'Surabaya'\n",
    "\n",
    "Dict = {'Nanggroe Aceh Darussalam': 'Aceh',\n",
    "\n",
    "'Sumatera Selatan': 'Palembang',\n",
    "\n",
    "'Kalimantan Barat': 'Pontianak',\n",
    "\n",
    "'Jawa Timur': 'Madiun',\n",
    "\n",
    "'Sulawesi Selatan': 'Makassar',\n",
    "\n",
    "'Maluku': 'Ambon'}\n",
    "\n",
    "Dict['Jawa Timur'] = [\"Surabaya\"]\n",
    "print(Dict['Jawa Timur'])"
   ]
  }
 ],
 "metadata": {
  "kernelspec": {
   "display_name": "myenv",
   "language": "python",
   "name": "python3"
  },
  "language_info": {
   "codemirror_mode": {
    "name": "ipython",
    "version": 3
   },
   "file_extension": ".py",
   "mimetype": "text/x-python",
   "name": "python",
   "nbconvert_exporter": "python",
   "pygments_lexer": "ipython3",
   "version": "3.9.20"
  }
 },
 "nbformat": 4,
 "nbformat_minor": 2
}
